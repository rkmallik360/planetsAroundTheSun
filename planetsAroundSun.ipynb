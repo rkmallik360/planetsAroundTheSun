{
 "cells": [
  {
   "cell_type": "code",
   "execution_count": 4,
   "metadata": {},
   "outputs": [],
   "source": [
    "#!/usr/bin/env python3\n",
    "# -*- coding: utf-8 -*-\n",
    "\"\"\"\n",
    "Created on Wed Jun 27 01:58:41 2018\n",
    "\n",
    "@author: radhakrishnamallik\n",
    "\"\"\"\n",
    "\n",
    "import os, sys, math, pygame.mixer\n",
    "from pygame import *\n",
    "#import pygame.camera\n"
   ]
  },
  {
   "cell_type": "code",
   "execution_count": 5,
   "metadata": {},
   "outputs": [],
   "source": [
    "vec = pygame.math.Vector2\n",
    "# Defining some basic colors\n",
    "BLACK = (0, 0, 0)\n",
    "WHITE = ( 255, 255, 255)\n",
    "GREEN = (0, 255, 0)\n",
    "RED = (255, 0, 0)\n",
    "BLUE = (0, 0, 255)\n",
    "Aqua = (0, 255, 255)\n",
    "Black = (0, 0, 0)\n",
    "Blue = (0, 0,255)\n",
    "Fuchsia = (255,0, 255)\n",
    "Gray = (128,128,128)\n",
    "Green = (0, 128, 0)\n",
    "Lime = (0, 255, 0)\n",
    "Maroon = (128, 0, 0)\n",
    "NavyBlue = (0, 0,128)\n",
    "Olive = (128,128, 0)\n",
    "Purple = (128,0, 128)\n",
    "Red = (255, 0, 0)\n",
    "Silver = (192, 192, 192)\n",
    "Teal = (0, 128, 128)\n",
    "White = (255, 255, 255)\n",
    "Yellow = (255,255, 0)"
   ]
  },
  {
   "cell_type": "code",
   "execution_count": 6,
   "metadata": {},
   "outputs": [],
   "source": [
    "\n",
    "# Defining the screen size\n",
    "# Set the width and height of the screen [width, height]\n",
    "\n",
    "WIDTH = 1500\n",
    "DEPTH = 950\n",
    "size = (WIDTH, DEPTH) "
   ]
  },
  {
   "cell_type": "code",
   "execution_count": 7,
   "metadata": {},
   "outputs": [],
   "source": [
    "# Defining Constant\n",
    "FPS = 120\n",
    "DSF = 2E9\n",
    "DIASF = 5E6\n",
    "G = 6.67E-11\n",
    "M = 1.989E30\n",
    "DaySec = 24*60*60 # Sec\n",
    "DayNo = 150 # Day Time Scale factor 1 sec = n day\n",
    "\n",
    "DT = DayNo*DaySec/FPS\n",
    "TimeStepCount = 1000\n",
    "DDT = DT/TimeStepCount\n",
    "sunPos = vec(WIDTH*0.5, DEPTH*0.5)"
   ]
  },
  {
   "cell_type": "code",
   "execution_count": 8,
   "metadata": {},
   "outputs": [],
   "source": [
    "# Planet Images Loading\n",
    "b = 5 \n",
    "h = 5\n",
    "s = 5\n",
    "m = 2\n",
    "v = 2\n",
    "e = 3\n",
    "ma = 2\n",
    "j = 20\n",
    "sa = 20\n",
    "sunImage = pygame.image.load(\"images/sun.jpg\")\n",
    "sunImageM = pygame.transform.scale(sunImage, (b*s,h*s))\n",
    "\n",
    "mercImage = pygame.image.load(\"images/merc.jpg\")\n",
    "mercImageM = pygame.transform.scale(mercImage, (b*m,h*m))\n",
    "\n",
    "\n",
    "venusImage = pygame.image.load(\"images/venus.jpg\")\n",
    "venusImageM = pygame.transform.scale(venusImage, (b*v,h*v))\n",
    "\n",
    "earthImage = pygame.image.load(\"images/earth.jpg\")\n",
    "earthImageM = pygame.transform.scale(earthImage, (b*e,h*e))\n",
    "\n",
    "marsImage = pygame.image.load(\"images/mars.jpg\")\n",
    "marsImageM = pygame.transform.scale(marsImage, (b*ma,h*ma))\n",
    "\n",
    "jupiterImage = pygame.image.load(\"images/jupiter.jpg\")\n",
    "jupiterImageM = pygame.transform.scale(jupiterImage, (b*j,h*j))\n",
    " \n",
    "saturnImage = pygame.image.load(\"images/saturn.jpg\")\n",
    "saturnImageM = pygame.transform.scale(saturnImage, (b*sa,h*sa))"
   ]
  },
  {
   "cell_type": "code",
   "execution_count": 9,
   "metadata": {},
   "outputs": [],
   "source": [
    "class Planet:       \n",
    "    def __init__(self,dia,distanceFromSun,mass,velocity,tilt,color,image):\n",
    "        self.dia = dia\n",
    "        self.distanceFromSun = distanceFromSun\n",
    "        self.mass = mass\n",
    "        self.velocity = velocity\n",
    "        self.tilt = tilt\n",
    "        self.color = color\n",
    "        self.image = image\n",
    "        self.vel = vec(0,self.velocity)   \n",
    "        self.posWrtSun = vec(-self.distanceFromSun,0)\n",
    "#        self.pos = (self.posWrtSun/DSF + sunPos)        \n",
    "\n",
    "    def InstantV(self,IposWrtSun,Ivel):\n",
    "        self.IposWrtSun = IposWrtSun\n",
    "        self.Ivel = Ivel\n",
    "        for i in range(TimeStepCount):            \n",
    "            self.acc = -G*M*(self.IposWrtSun)/((vec.length(self.IposWrtSun))**3)            \n",
    "            self.IposWrtSun += self.Ivel*DDT+0.5*self.acc*DDT**2\n",
    "            self.Ivel += self.acc*DDT            \n",
    "            self.pos = (self.IposWrtSun/DSF + sunPos)\n",
    "        return self.pos,self.IposWrtSun,self.Ivel\n",
    "        \n",
    "    def display(self):\n",
    "\n",
    "        rect = self.image.get_rect()\n",
    "        rect.center = ((int(self.pos.x),int(self.pos.y)))\n",
    "        screen.blit(self.image, rect)\n",
    " "
   ]
  },
  {
   "cell_type": "code",
   "execution_count": 10,
   "metadata": {},
   "outputs": [],
   "source": [
    "\n",
    "\n",
    "# initializing pygame window\n",
    "# Setting the display and getting the Surface object\n",
    "pygame.init()\n",
    "screen = pygame.display.set_mode(size)\n",
    "bg = pygame.image.load(\"NightSky2.jpg\") "
   ]
  },
  {
   "cell_type": "code",
   "execution_count": 11,
   "metadata": {},
   "outputs": [],
   "source": [
    "# Getting the Clock object\n",
    "clock = pygame.time.Clock()\n",
    "\n",
    "#Setting the title to the window  \n",
    "pygame.display.set_caption(\"Planet around the Sun\")"
   ]
  },
  {
   "cell_type": "code",
   "execution_count": 12,
   "metadata": {},
   "outputs": [],
   "source": [
    "# Creating planet object from Planet Class\n",
    "sun = Planet(1.392E9, 0, 1.989E30, 0, 0, Yellow,sunImageM)  #MKS units, tilt is in degree\n",
    "venus = Planet(12.104E6, 108.2E9, 4.9E24, 35000, 177, Maroon, venusImageM)\n",
    "merc = Planet(5.0E6, 57.9E9, 3.3E23, 47400, 0.01, Maroon, mercImageM)\n",
    "earth = Planet(12.756E6, 149.6E9, 6.0E24, 29800, 23.5, GREEN, earthImageM)\n",
    "mars = Planet(6.779E6, 227.9E9, 6.0E24, 24100, 25, RED, marsImageM)\n",
    "jupiter = Planet(143E6, 778.6E9, 2.0E27, 13100, 3, Yellow, jupiterImageM)\n",
    "saturn = Planet(120.5E6, 1427E9, 5.7E26, 9700, 27, Silver, saturnImageM)"
   ]
  },
  {
   "cell_type": "code",
   "execution_count": 13,
   "metadata": {},
   "outputs": [],
   "source": [
    "# Initial velocity  of the planet\n",
    "\n",
    "venus_vel = -venus.vel\n",
    "merc_vel = merc.vel\n",
    "earth_vel = earth.vel\n",
    "mars_vel = mars.vel\n",
    "jupiter_vel = jupiter.vel\n",
    "saturn_vel = saturn.vel"
   ]
  },
  {
   "cell_type": "code",
   "execution_count": 14,
   "metadata": {},
   "outputs": [],
   "source": [
    "# Initial  position of the planet\n",
    "venus_wrtSun = venus.posWrtSun\n",
    "merc_wrtSun = merc.posWrtSun\n",
    "earth_wrtSun = earth.posWrtSun\n",
    "mars_wrtSun= mars.posWrtSun\n",
    "jupiter_wrtSun = jupiter.posWrtSun\n",
    "saturn_wrtSun = saturn.posWrtSun"
   ]
  },
  {
   "cell_type": "code",
   "execution_count": 15,
   "metadata": {},
   "outputs": [],
   "source": [
    "# For debugging\n",
    "#venus.InstantV(venus_wrtSun,venus_vel)\n",
    "#venus_wrtSun = venus.IposWrtSun\n",
    "#venus_vel =venus.Ivel\n",
    "#print(venus_wrtSun)\n",
    "#print(venus.pos)\n",
    "#print(venus_vel) "
   ]
  },
  {
   "cell_type": "code",
   "execution_count": 16,
   "metadata": {},
   "outputs": [],
   "source": [
    "# Defining the variables for FPS and continued running\n",
    "FPS = 60\n",
    "run_me = True\n",
    "while run_me:\n",
    "    # Limit the framerate\n",
    "    clock.tick(FPS)\n",
    "    \n",
    "    for event in pygame.event.get():\n",
    "        if event.type == pygame.QUIT:\n",
    "            run_me = False\n",
    "            \n",
    "    # Clear the screen\n",
    "    screen.blit(bg,(0,0))\n",
    "\n",
    "#    sun.display()\n",
    "    screen.blit(sunImageM,(int(WIDTH*0.5-0.5*b*s),int(DEPTH*0.5-0.5*b*s))),\n",
    "    venus.InstantV(venus_wrtSun,venus_vel)\n",
    "    venus_wrtSun = venus.IposWrtSun\n",
    "    venus_vel =venus.Ivel\n",
    "    \n",
    "    merc.InstantV(merc_wrtSun,merc_vel)\n",
    "    merc_wrtSun = merc.IposWrtSun\n",
    "    merc_vel =merc.Ivel \n",
    "    \n",
    "    earth.InstantV(earth_wrtSun,earth_vel)\n",
    "    earth_wrtSun = earth.IposWrtSun\n",
    "    earth_vel = earth.Ivel \n",
    "    \n",
    "    mars.InstantV(mars_wrtSun,mars_vel)\n",
    "    mars_wrtSun = mars.IposWrtSun\n",
    "    mars_vel = mars.Ivel    \n",
    "    \n",
    "    jupiter.InstantV(jupiter_wrtSun,jupiter_vel)\n",
    "    jupiter_wrtSun = jupiter.IposWrtSun\n",
    "    jupiter_vel = jupiter.Ivel \n",
    "    \n",
    "    saturn.InstantV(saturn_wrtSun,saturn_vel)\n",
    "    saturn_wrtSun = saturn.IposWrtSun\n",
    "    saturn_vel = saturn.Ivel \n",
    "#    all_sprites = pygame.sprite.Group()\n",
    "    venus.display()\n",
    "    merc.display()\n",
    "    earth.display()\n",
    "    mars.display()\n",
    "    jupiter.display()\n",
    "    saturn.display()\n",
    "\n",
    "    # Display everything in the screen\n",
    "    pygame.display.flip()\n",
    "    "
   ]
  },
  {
   "cell_type": "code",
   "execution_count": 17,
   "metadata": {},
   "outputs": [
    {
     "ename": "SystemExit",
     "evalue": "",
     "output_type": "error",
     "traceback": [
      "An exception has occurred, use %tb to see the full traceback.\n",
      "\u001b[0;31mSystemExit\u001b[0m\n"
     ]
    }
   ],
   "source": [
    "# Quit the game\n",
    "pygame.quit()\n",
    "sys.exit()"
   ]
  },
  {
   "cell_type": "code",
   "execution_count": null,
   "metadata": {},
   "outputs": [],
   "source": []
  }
 ],
 "metadata": {
  "kernelspec": {
   "display_name": "Python 3",
   "language": "python",
   "name": "python3"
  },
  "language_info": {
   "codemirror_mode": {
    "name": "ipython",
    "version": 3
   },
   "file_extension": ".py",
   "mimetype": "text/x-python",
   "name": "python",
   "nbconvert_exporter": "python",
   "pygments_lexer": "ipython3",
   "version": "3.7.6"
  }
 },
 "nbformat": 4,
 "nbformat_minor": 4
}
